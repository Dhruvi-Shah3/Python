{
 "cells": [
  {
   "cell_type": "code",
   "execution_count": 3,
   "metadata": {},
   "outputs": [],
   "source": [
    "import numpy as np\n"
   ]
  },
  {
   "cell_type": "code",
   "execution_count": 6,
   "metadata": {},
   "outputs": [
    {
     "name": "stdout",
     "output_type": "stream",
     "text": [
      "5\n",
      "[5 6 7 8 9]\n",
      "[12 11 10  9  8  7  6  5  4  3  2  1]\n",
      "[11  1]\n",
      "[2]\n",
      "[False  True False  True False  True False  True False  True False  True]\n"
     ]
    }
   ],
   "source": [
    "a=np.arange(1,13)\n",
    "print(a[-8])\n",
    "print(a[4:9])\n",
    "print(a[::-1])\n",
    "print(a[-2::-10])\n",
    "print(a[1:7:9])\n",
    "print(a%2==0)\n",
    "\n"
   ]
  },
  {
   "cell_type": "code",
   "execution_count": 22,
   "metadata": {},
   "outputs": [
    {
     "name": "stdout",
     "output_type": "stream",
     "text": [
      "[[ 1  2  3  4]\n",
      " [ 5  6  7  8]\n",
      " [ 9 10 11 12]]\n",
      "\n",
      "7\n",
      "\n",
      "10\n",
      "\n",
      "[1 5 9]\n",
      "\n",
      "[[12 11 10  9]\n",
      " [ 8  7  6  5]\n",
      " [ 4  3  2  1]]\n",
      "\n",
      "[[ 1  4]\n",
      " [ 9 12]]\n",
      "\n",
      "[[ 1  4]\n",
      " [ 9 12]]\n",
      "\n",
      "[[ 1  3  4]\n",
      " [ 9 11 12]]\n"
     ]
    }
   ],
   "source": [
    "b=np.arange(1,13).reshape(3,4)\n",
    "print(b)\n",
    "print()\n",
    "print(b[1,2])\n",
    "print()\n",
    "print(b[-1,-3])\n",
    "print()\n",
    "print(b[:,0])\n",
    "print()\n",
    "print(b[::-1,::-1])\n",
    "print()\n",
    "print(b[::2,::3])\n",
    "print()\n",
    "print(b[0::2,0::3])\n",
    "print()\n",
    "print(b[::2,[0,2,3]])"
   ]
  },
  {
   "cell_type": "code",
   "execution_count": 37,
   "metadata": {},
   "outputs": [
    {
     "name": "stdout",
     "output_type": "stream",
     "text": [
      "[[[ 1  2  3]\n",
      "  [ 4  5  6]]\n",
      "\n",
      " [[ 7  8  9]\n",
      "  [10 11 12]]]\n",
      "1..............\n",
      "8\n",
      "8\n",
      "2..............\n",
      "[[[12 11 10]\n",
      "  [ 9  8  7]]\n",
      "\n",
      " [[ 6  5  4]\n",
      "  [ 3  2  1]]]\n",
      "3..............\n",
      "[[[1 3]]\n",
      "\n",
      " [[7 9]]]\n",
      "4...............\n",
      "[[1 3]\n",
      " [7 9]]\n"
     ]
    }
   ],
   "source": [
    "b=np.arange(1,13).reshape(2,2,3)\n",
    "print(b)\n",
    "print(\"1..............\")\n",
    "print(b[1,0,1])\n",
    "##or\n",
    "print(b[-1,-2,-2])\n",
    "print(\"2..............\")\n",
    "print(b[::-1,::-1,::-1])\n",
    "print(\"3..............\")\n",
    "print(b[::1,::2,::2])\n",
    "print(\"4...............\")\n",
    "print(b[:,0,::2])"
   ]
  },
  {
   "cell_type": "code",
   "execution_count": 38,
   "metadata": {},
   "outputs": [
    {
     "name": "stdout",
     "output_type": "stream",
     "text": [
      "[[ 6  7  8  9]\n",
      " [10 11 12 13]\n",
      " [14 15 16 17]]\n",
      "[[-4 -3 -2 -1]\n",
      " [ 0  1  2  3]\n",
      " [ 4  5  6  7]]\n",
      "[[ 5 10 15 20]\n",
      " [25 30 35 40]\n",
      " [45 50 55 60]]\n",
      "[[0.2 0.4 0.6 0.8]\n",
      " [1.  1.2 1.4 1.6]\n",
      " [1.8 2.  2.2 2.4]]\n",
      "[[1 2 3 4]\n",
      " [0 1 2 3]\n",
      " [4 0 1 2]]\n",
      "[[     1     32    243   1024]\n",
      " [  3125   7776  16807  32768]\n",
      " [ 59049 100000 161051 248832]]\n"
     ]
    }
   ],
   "source": [
    "a=np.arange(1,13).reshape(3,4)\n",
    "print(a+5)\n",
    "print(a-5)\n",
    "print(a*5)\n",
    "print(a/5)\n",
    "print(a%5)\n",
    "print(a**5)"
   ]
  },
  {
   "cell_type": "code",
   "execution_count": 45,
   "metadata": {},
   "outputs": [
    {
     "name": "stdout",
     "output_type": "stream",
     "text": [
      "[[14 16 18 20]\n",
      " [22 24 26 28]\n",
      " [30 32 34 36]]\n",
      "[[-12 -12 -12 -12]\n",
      " [-12 -12 -12 -12]\n",
      " [-12 -12 -12 -12]]\n",
      "[[ 13  28  45  64]\n",
      " [ 85 108 133 160]\n",
      " [189 220 253 288]]\n",
      "[[0.07692308 0.14285714 0.2        0.25      ]\n",
      " [0.29411765 0.33333333 0.36842105 0.4       ]\n",
      " [0.42857143 0.45454545 0.47826087 0.5       ]]\n",
      "[[ 1  2  3  4]\n",
      " [ 5  6  7  8]\n",
      " [ 9 10 11 12]]\n",
      "[[          1       16384    14348907           0]\n",
      " [-1564725563  1159987200   442181591           0]\n",
      " [ 1914644777 -1304428544  -122979837           0]]\n"
     ]
    }
   ],
   "source": [
    "b=np.arange(13,25).reshape(3,4)\n",
    "print(a+b)\n",
    "print(a-b)\n",
    "print(a*b)\n",
    "print(a/b)\n",
    "print(a%b)\n",
    "print(a**b)\n"
   ]
  },
  {
   "cell_type": "code",
   "execution_count": 46,
   "metadata": {},
   "outputs": [],
   "source": [
    "b=np.arange(13,25).reshape(4,3)\n",
    "c=np.dot(a,b)"
   ]
  },
  {
   "cell_type": "code",
   "execution_count": 47,
   "metadata": {},
   "outputs": [
    {
     "data": {
      "text/plain": [
       "array([[190, 200, 210],\n",
       "       [470, 496, 522],\n",
       "       [750, 792, 834]])"
      ]
     },
     "execution_count": 47,
     "metadata": {},
     "output_type": "execute_result"
    }
   ],
   "source": [
    "c"
   ]
  },
  {
   "cell_type": "code",
   "execution_count": null,
   "metadata": {},
   "outputs": [],
   "source": []
  }
 ],
 "metadata": {
  "kernelspec": {
   "display_name": "Python 3",
   "language": "python",
   "name": "python3"
  },
  "language_info": {
   "codemirror_mode": {
    "name": "ipython",
    "version": 3
   },
   "file_extension": ".py",
   "mimetype": "text/x-python",
   "name": "python",
   "nbconvert_exporter": "python",
   "pygments_lexer": "ipython3",
   "version": "3.8.5"
  }
 },
 "nbformat": 4,
 "nbformat_minor": 4
}
